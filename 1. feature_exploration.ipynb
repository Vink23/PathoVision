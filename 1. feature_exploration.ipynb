{
 "cells": [
  {
   "cell_type": "markdown",
   "metadata": {},
   "source": [
    "# 1. Feature Exploration"
   ]
  },
  {
   "cell_type": "markdown",
   "metadata": {},
   "source": [
    "### 0. Imports"
   ]
  },
  {
   "cell_type": "code",
   "execution_count": null,
   "metadata": {},
   "outputs": [],
   "source": [
    "import os\n",
    "import pandas as pd\n",
    "import numpy as np\n",
    "import matplotlib.pyplot as plt\n",
    "from sklearn.model_selection import train_test_split\n",
    "import cv2 as cv\n",
    "from skimage.feature import hog\n",
    "from skimage.feature import blob_log, blob_dog, blob_doh\n",
    "from skimage import data, exposure\n",
    "from utils import *\n",
    "from skimage.filters import difference_of_gaussians\n",
    "from skimage.filters import laplace\n",
    "from skimage.filters import gaussian\n",
    "from skimage.exposure import rescale_intensity\n",
    "from skimage.transform import rescale, rotate\n",
    "from skimage.color import rgb2gray\n",
    "from sklearn.metrics import mean_squared_error\n",
    "from scipy import stats\n",
    "from skimage.feature import hessian_matrix, hessian_matrix_det"
   ]
  },
  {
   "cell_type": "code",
   "execution_count": null,
   "metadata": {},
   "outputs": [],
   "source": [
    "def get_features(in_imgs, feat_name='canny'):\n",
    "\n",
    "    if feat_name == 'canny':\n",
    "        # stack flattened images into array\n",
    "        featurelist = []\n",
    "        for i in range (in_imgs.shape[0]):\n",
    "            featurelist.append(in_imgs[i, :, :].flatten()[np.newaxis, :])\n",
    "        features = np.vstack(featurelist)\n",
    "\n",
    "        # plot the first image\n",
    "        plt.figure(figsize=(5,5))\n",
    "        plt.imshow(in_imgs[0, ...], cmap='gray')\n",
    "        plt.axis('off')\n",
    "        plt.show()\n",
    "        return features\n",
    "\n",
    "    if feat_name == 'blob_dog':\n",
    "        # stack extracted hog features into array\n",
    "        # also save the first hog image for plotting\n",
    "        featurelist = []\n",
    "        for i in range(in_imgs.shape[0]):\n",
    "            image = in_imgs[i]\n",
    "            \n",
    "        return features\n",
    "    \n",
    "    if feat_name == 'blob_doh':\n",
    "        #blah\n",
    "\n",
    "        return features\n",
    "\n",
    "    return None"
   ]
  },
  {
   "cell_type": "markdown",
   "metadata": {},
   "source": [
    "### 1. Blob DoG/DoH"
   ]
  },
  {
   "cell_type": "markdown",
   "metadata": {},
   "source": [
    "### 2. Canny Edges"
   ]
  }
 ],
 "metadata": {
  "kernelspec": {
   "display_name": "datasci281",
   "language": "python",
   "name": "python3"
  },
  "language_info": {
   "name": "python",
   "version": "3.13.2"
  }
 },
 "nbformat": 4,
 "nbformat_minor": 2
}

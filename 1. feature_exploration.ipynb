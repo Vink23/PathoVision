{
  "cells": [
    {
      "cell_type": "markdown",
      "metadata": {
        "id": "0C1kxw5uL44f"
      },
      "source": [
        "# 1. Feature Exploration\n",
        "The code in this notebook has been refactored into separate supplementary notebooks. Please see the following notebooks for individual feature exploration and engineering.\n",
        "- Canny Edge Feature Notebook: [canny_edges.ipynb](https://github.com/Richard-Yan-UCB/datasci281_final_project/blob/main/canny_edges.ipynb)\n",
        "- Blob Detection Features Notebook: [blob_detection.ipynb](https://github.com/Richard-Yan-UCB/datasci281_final_project/blob/main/blob_detection.ipynb) (please download/pull to view)\n",
        "- Complex Features Notebook: [complex_feat_extraction.ipynb](https://github.com/Richard-Yan-UCB/datasci281_final_project/blob/main/complex_feat_extraction.ipynb) (please download/pull to view)"
      ]
    }
  ],
  "metadata": {
    "kernelspec": {
      "display_name": "datasci281",
      "language": "python",
      "name": "python3"
    },
    "language_info": {
      "name": "python",
      "version": "3.13.2"
    },
    "colab": {
      "provenance": []
    }
  },
  "nbformat": 4,
  "nbformat_minor": 0
}